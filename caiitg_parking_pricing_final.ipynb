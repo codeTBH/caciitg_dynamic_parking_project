{
  "nbformat": 4,
  "nbformat_minor": 0,
  "metadata": {
    "colab": {
      "provenance": [],
      "authorship_tag": "ABX9TyO1lH3ygc/RJgP5ul/SvYRs",
      "include_colab_link": true
    },
    "kernelspec": {
      "name": "python3",
      "display_name": "Python 3"
    },
    "language_info": {
      "name": "python"
    }
  },
  "cells": [
    {
      "cell_type": "markdown",
      "metadata": {
        "id": "view-in-github",
        "colab_type": "text"
      },
      "source": [
        "<a href=\"https://colab.research.google.com/github/codeTBH/caciitg_dynamic_parking_project/blob/main/caiitg_parking_pricing_final.ipynb\" target=\"_parent\"><img src=\"https://colab.research.google.com/assets/colab-badge.svg\" alt=\"Open In Colab\"/></a>"
      ]
    },
    {
      "cell_type": "code",
      "execution_count": 72,
      "metadata": {
        "id": "ozTm4vdEB1eL"
      },
      "outputs": [],
      "source": [
        "\n",
        "!pip install pathway --quiet\n",
        "\n",
        "\n",
        "import pandas as pd\n",
        "import numpy as np\n",
        "from datetime import datetime\n",
        "import pathway as pw\n"
      ]
    },
    {
      "cell_type": "code",
      "source": [
        "# 📥 Load and preprocess dataset\n",
        "df = pd.read_csv('dataset.csv')\n",
        "\n",
        "# Combine date and time into a single timestamp column\n",
        "df['timestamp'] = pd.to_datetime(df['LastUpdatedDate'] + ' ' + df['LastUpdatedTime'], format=\"%d-%m-%Y %H:%M:%S\")\n",
        "df.drop(['LastUpdatedDate', 'LastUpdatedTime'], axis=1, inplace=True)\n",
        "df = df.sort_values('timestamp').reset_index(drop=True)\n",
        "df['occupancy_rate'] = df['Occupancy'] / df['Capacity']\n",
        "df['is_special_day'] = df['IsSpecialDay'].map({'Yes': 1, 'No': 0})\n",
        "vehicle_map = {'car': 1.0, 'bike': 0.5, 'truck': 1.5}\n",
        "df['vehicle_weight'] = df['VehicleType'].map(vehicle_map)\n",
        "\n",
        "\n",
        "df.head()\n",
        "df[[\"timestamp\", \"Occupancy\", \"Capacity\", \"SystemCodeNumber\"]].to_csv(\"parking_stream.csv\", index=False)"
      ],
      "metadata": {
        "id": "SBvOD8rrC5NK"
      },
      "execution_count": 73,
      "outputs": []
    },
    {
      "cell_type": "code",
      "source": [
        "# 🔧 Model 1: Baseline Linear Pricing\n",
        "def baseline_price(prev_price, occupancy, capacity, alpha=0.1):\n",
        "    \"\"\"\n",
        "    Increases price linearly with occupancy.\n",
        "    \"\"\"\n",
        "    return prev_price + alpha * (occupancy / capacity)\n"
      ],
      "metadata": {
        "id": "tMl8vNpeHbki"
      },
      "execution_count": 74,
      "outputs": []
    },
    {
      "cell_type": "code",
      "source": [
        "# 🔧 Model 2: Demand-Based Pricing\n",
        "\n",
        "# Define demand function\n",
        "def compute_demand(row, weights):\n",
        "    return (\n",
        "        weights['occupancy'] * row['occupancy_rate'] +\n",
        "        weights['queue'] * row['QueueLength'] -\n",
        "        weights['traffic'] * row['TrafficConditionNearby'] +\n",
        "        weights['special_day'] * row['is_special_day'] +\n",
        "        weights['vehicle'] * row['vehicle_weight']\n",
        "    )\n",
        "\n",
        "# Normalize and apply pricing\n",
        "def demand_based_price(base_price, demand, lambda_=0.5):\n",
        "    norm_demand = (demand - demand.min()) / (demand.max() - demand.min())\n",
        "    price = base_price * (1 + lambda_ * norm_demand)\n",
        "    return np.clip(price, 0.5 * base_price, 2 * base_price)\n"
      ],
      "metadata": {
        "id": "juz_zZd1Hgnc"
      },
      "execution_count": 75,
      "outputs": []
    },
    {
      "cell_type": "code",
      "source": [
        "# 🔧 Model 3: Competitive Pricing (Optional)\n",
        "from geopy.distance import geodesic\n",
        "\n",
        "def haversine_distance(lat1, lon1, lat2, lon2):\n",
        "    return geodesic((lat1, lon1), (lat2, lon2)).meters\n",
        "\n",
        "def adjust_for_competition(current_price, nearby_prices, is_full):\n",
        "    avg_nearby = np.mean(nearby_prices)\n",
        "    if is_full and current_price > avg_nearby:\n",
        "        return avg_nearby - 1  # Suggest rerouting\n",
        "    elif current_price < avg_nearby:\n",
        "        return current_price + 1  # Slight increase\n",
        "    return current_price\n"
      ],
      "metadata": {
        "id": "LL7wVEzdHjPi"
      },
      "execution_count": 76,
      "outputs": []
    },
    {
      "cell_type": "code",
      "source": [
        "import pathway as pw\n",
        "# from datetime import datetime # This import is not needed for the schema definition\n",
        "\n",
        "class ParkingInputSchema(pw.Schema):\n",
        "    timestamp: str\n",
        "    ID: str\n",
        "    SystemCodeNumber: str\n",
        "    Capacity: int\n",
        "    Latitude: float\n",
        "    Longitude: float\n",
        "    Occupancy: int\n",
        "    VehicleType: str\n",
        "    TrafficConditionNearby: str\n",
        "    QueueLength: int\n",
        "    IsSpecialDay: str"
      ],
      "metadata": {
        "id": "QXAcZXIhHroH"
      },
      "execution_count": 77,
      "outputs": []
    },
    {
      "cell_type": "code",
      "source": [
        "input_table = pw.io.csv.read(\n",
        "    \"dataset.csv\",\n",
        "    schema=ParkingInputSchema,\n",
        "    mode=\"streaming\",  # simulate real-time\n",
        "    autocommit_duration_ms=1000  # 1-second intervals\n",
        ")\n"
      ],
      "metadata": {
        "id": "3o443oPcKFX9"
      },
      "execution_count": 78,
      "outputs": []
    },
    {
      "cell_type": "code",
      "source": [
        "@pw.udf\n",
        "def compute_price(row):\n",
        "    occupancy_rate = row.Occupancy / row.Capacity\n",
        "    is_special_day = 1 if row.IsSpecialDay == \"Yes\" else 0\n",
        "    vehicle_weight = {\"car\": 1.0, \"bike\": 0.5, \"truck\": 1.5}.get(row.VehicleType, 1.0)\n",
        "\n",
        "    demand = (\n",
        "        0.4 * occupancy_rate +\n",
        "        0.3 * row.QueueLength -\n",
        "        0.2 * row.TrafficConditionNearby +\n",
        "        0.1 * is_special_day +\n",
        "        0.2 * vehicle_weight\n",
        "    )\n",
        "\n",
        "    norm_demand = min(max((demand - 0.5) / 1.5, 0), 1)\n",
        "    price = 10 * (1 + 0.5 * norm_demand)\n",
        "    return round(min(max(price, 5), 20), 2)\n"
      ],
      "metadata": {
        "id": "2wd_Wb0jKJdJ"
      },
      "execution_count": 79,
      "outputs": []
    },
    {
      "cell_type": "code",
      "source": [
        "output_table = input_table.select(\n",
        "    timestamp=input_table.timestamp,\n",
        "    lot_id=input_table.SystemCodeNumber,\n",
        "    price=compute_price(\n",
        "        input_table.Occupancy,\n",
        "        input_table.Capacity,\n",
        "        input_table.QueueLength,\n",
        "        input_table.TrafficConditionNearby,\n",
        "        input_table.IsSpecialDay,\n",
        "        input_table.VehicleType\n",
        "    )\n",
        ")\n"
      ],
      "metadata": {
        "id": "vV4DW7t8KQlB"
      },
      "execution_count": 80,
      "outputs": []
    },
    {
      "cell_type": "code",
      "source": [
        "\n",
        "%%capture --no-display\n",
        "pw.run()\n"
      ],
      "metadata": {
        "id": "nzS-XSolLLlj"
      },
      "execution_count": null,
      "outputs": []
    },
    {
      "cell_type": "code",
      "source": [
        "# Load simulated stream\n",
        "stream_df = pd.read_csv(\"parking_stream.csv\")\n",
        "stream_df['timestamp'] = pd.to_datetime(stream_df['timestamp'])\n",
        "\n",
        "# Simulate pricing logic\n",
        "def simulate_price(occupancy, capacity):\n",
        "    rate = occupancy / capacity\n",
        "    demand = 0.4 * rate + 0.3 * np.random.randint(0, 5) - 0.2 * np.random.random()\n",
        "    norm_demand = min(max((demand - 0.5) / 1.5, 0), 1)\n",
        "    return round(10 * (1 + 0.5 * norm_demand), 2)\n",
        "\n",
        "\n",
        "\n",
        "\n",
        "\n",
        "from bokeh.plotting import figure, show, output_notebook\n",
        "from bokeh.models import ColumnDataSource\n",
        "from bokeh.palettes import Category10\n",
        "from bokeh.io import push_notebook\n",
        "import time\n",
        "\n",
        "output_notebook()\n",
        "\n",
        "# Get unique parking lots\n",
        "lot_ids = stream_df['SystemCodeNumber'].unique()\n",
        "colors = Category10[10] * 2  # Enough colors for 14 lots\n",
        "\n",
        "# Create a data source for each lot\n",
        "sources = {\n",
        "    lot: ColumnDataSource(data=dict(\n",
        "        time=[], baseline=[], demand=[], model3=[], competitor=[]\n",
        "    ))\n",
        "    for lot in lot_ids\n",
        "}\n",
        "\n",
        "\n",
        "# Create figure\n",
        "p = figure(title=\"Real-Time Pricing per Parking Lot\", x_axis_type='datetime', width=900, height=500)\n",
        "for i, lot in enumerate(lot_ids):\n",
        "   p.line('time', 'baseline', source=sources[lot], color=colors[i], line_dash='dotdash', legend_label=f\"{lot} - Model 1\")\n",
        "   p.line('time', 'demand', source=sources[lot], color=colors[i], line_width=2, legend_label=f\"{lot} - Model 2\")\n",
        "   p.line('time', 'model3', source=sources[lot], color=colors[i], line_dash='dotted', legend_label=f\"{lot} - Model 3\")\n",
        "   p.line('time', 'competitor', source=sources[lot], color=colors[i], line_dash='dashed', legend_label=f\"{lot} - Competitor\")\n",
        "\n",
        "\n",
        "p.legend.click_policy = \"hide\"\n",
        "p.xaxis.axis_label = 'Time'\n",
        "p.yaxis.axis_label = 'Price (₹)'\n",
        "\n",
        "handle = show(p, notebook_handle=True)\n",
        "# Simulate real-time updates\n",
        "for i, row in stream_df.iterrows():\n",
        "    lot = row['SystemCodeNumber']\n",
        "    timestamp = pd.to_datetime(row['timestamp'])\n",
        "    # Model 1: Baseline\n",
        "    baseline = 10 + 0.1 * (row['Occupancy'] / row['Capacity'])\n",
        "\n",
        "    # Model 2: Demand-based\n",
        "    demand_price = simulate_price(row['Occupancy'], row['Capacity'])\n",
        "\n",
        "    # Model 3: Competitive\n",
        "    competitor_price = round(demand_price + np.random.uniform(-2, 2), 2)\n",
        "    model3_price = max(competitor_price - 0.5, 5)\n",
        "\n",
        "    new_data = dict(\n",
        "        time=[timestamp],\n",
        "        baseline=[baseline],\n",
        "        demand=[demand_price],\n",
        "        model3=[model3_price],\n",
        "        competitor=[competitor_price]\n",
        "    )\n",
        "\n",
        "    sources[lot].stream(new_data, rollover=100)\n",
        "\n",
        "    push_notebook(handle=handle)\n",
        "    time.sleep(0.2)"
      ],
      "metadata": {
        "id": "aigFFlgoLQTZ"
      },
      "execution_count": null,
      "outputs": []
    }
  ]
}